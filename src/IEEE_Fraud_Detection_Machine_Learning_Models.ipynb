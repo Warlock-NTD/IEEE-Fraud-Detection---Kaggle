{
  "nbformat": 4,
  "nbformat_minor": 0,
  "metadata": {
    "colab": {
      "name": "IEEE_Fraud_Detection_Machine-Learning_Models.ipynb",
      "provenance": [],
      "collapsed_sections": []
    },
    "kernelspec": {
      "name": "python3",
      "display_name": "Python 3"
    },
    "language_info": {
      "name": "python"
    },
    "widgets": {
      "application/vnd.jupyter.widget-state+json": {
        "71f8b65f012f4ef682db5042d2b12301": {
          "model_module": "@jupyter-widgets/controls",
          "model_name": "HBoxModel",
          "model_module_version": "1.5.0",
          "state": {
            "_view_name": "HBoxView",
            "_dom_classes": [],
            "_model_name": "HBoxModel",
            "_view_module": "@jupyter-widgets/controls",
            "_model_module_version": "1.5.0",
            "_view_count": null,
            "_view_module_version": "1.5.0",
            "box_style": "",
            "layout": "IPY_MODEL_75f691d971714307b901afbf7de9042e",
            "_model_module": "@jupyter-widgets/controls",
            "children": [
              "IPY_MODEL_71bd76d159b946c38c1a58577dad957c",
              "IPY_MODEL_6587d2ecd7224391a3f0cce8a45bfa9c",
              "IPY_MODEL_00a7101b66d84296b4d57a8fe8ee1033"
            ]
          }
        },
        "75f691d971714307b901afbf7de9042e": {
          "model_module": "@jupyter-widgets/base",
          "model_name": "LayoutModel",
          "model_module_version": "1.2.0",
          "state": {
            "_view_name": "LayoutView",
            "grid_template_rows": null,
            "right": null,
            "justify_content": null,
            "_view_module": "@jupyter-widgets/base",
            "overflow": null,
            "_model_module_version": "1.2.0",
            "_view_count": null,
            "flex_flow": "row wrap",
            "width": "100%",
            "min_width": null,
            "border": null,
            "align_items": null,
            "bottom": null,
            "_model_module": "@jupyter-widgets/base",
            "top": null,
            "grid_column": null,
            "overflow_y": null,
            "overflow_x": null,
            "grid_auto_flow": null,
            "grid_area": null,
            "grid_template_columns": null,
            "flex": null,
            "_model_name": "LayoutModel",
            "justify_items": null,
            "grid_row": null,
            "max_height": null,
            "align_content": null,
            "visibility": null,
            "align_self": null,
            "height": null,
            "min_height": null,
            "padding": null,
            "grid_auto_rows": null,
            "grid_gap": null,
            "max_width": null,
            "order": null,
            "_view_module_version": "1.2.0",
            "grid_template_areas": null,
            "object_position": null,
            "object_fit": null,
            "grid_auto_columns": null,
            "margin": null,
            "display": "inline-flex",
            "left": null
          }
        },
        "71bd76d159b946c38c1a58577dad957c": {
          "model_module": "@jupyter-widgets/controls",
          "model_name": "HTMLModel",
          "model_module_version": "1.5.0",
          "state": {
            "_view_name": "HTMLView",
            "style": "IPY_MODEL_31868639dc064713904466acc46dbd6b",
            "_dom_classes": [],
            "description": "",
            "_model_name": "HTMLModel",
            "placeholder": "​",
            "_view_module": "@jupyter-widgets/controls",
            "_model_module_version": "1.5.0",
            "value": "Epoch 19: 100%",
            "_view_count": null,
            "_view_module_version": "1.5.0",
            "description_tooltip": null,
            "_model_module": "@jupyter-widgets/controls",
            "layout": "IPY_MODEL_e39d8a88e18a4bb3b2312d1259210374"
          }
        },
        "6587d2ecd7224391a3f0cce8a45bfa9c": {
          "model_module": "@jupyter-widgets/controls",
          "model_name": "FloatProgressModel",
          "model_module_version": "1.5.0",
          "state": {
            "_view_name": "ProgressView",
            "style": "IPY_MODEL_2978be8b6a7846209b34ebbce227e7f8",
            "_dom_classes": [],
            "description": "",
            "_model_name": "FloatProgressModel",
            "bar_style": "success",
            "max": 13841,
            "_view_module": "@jupyter-widgets/controls",
            "_model_module_version": "1.5.0",
            "value": 13841,
            "_view_count": null,
            "_view_module_version": "1.5.0",
            "orientation": "horizontal",
            "min": 0,
            "description_tooltip": null,
            "_model_module": "@jupyter-widgets/controls",
            "layout": "IPY_MODEL_85c092b538e043848b9ee2febc37602c"
          }
        },
        "00a7101b66d84296b4d57a8fe8ee1033": {
          "model_module": "@jupyter-widgets/controls",
          "model_name": "HTMLModel",
          "model_module_version": "1.5.0",
          "state": {
            "_view_name": "HTMLView",
            "style": "IPY_MODEL_51e6a13cc2ac4342b79e2e0548a2f836",
            "_dom_classes": [],
            "description": "",
            "_model_name": "HTMLModel",
            "placeholder": "​",
            "_view_module": "@jupyter-widgets/controls",
            "_model_module_version": "1.5.0",
            "value": " 13841/13841 [01:56&lt;00:00, 118.34it/s, loss=0.0321, v_num=40]",
            "_view_count": null,
            "_view_module_version": "1.5.0",
            "description_tooltip": null,
            "_model_module": "@jupyter-widgets/controls",
            "layout": "IPY_MODEL_59f0c8dc741a4ea9b08ed86e80e22fa8"
          }
        },
        "31868639dc064713904466acc46dbd6b": {
          "model_module": "@jupyter-widgets/controls",
          "model_name": "DescriptionStyleModel",
          "model_module_version": "1.5.0",
          "state": {
            "_view_name": "StyleView",
            "_model_name": "DescriptionStyleModel",
            "description_width": "",
            "_view_module": "@jupyter-widgets/base",
            "_model_module_version": "1.5.0",
            "_view_count": null,
            "_view_module_version": "1.2.0",
            "_model_module": "@jupyter-widgets/controls"
          }
        },
        "e39d8a88e18a4bb3b2312d1259210374": {
          "model_module": "@jupyter-widgets/base",
          "model_name": "LayoutModel",
          "model_module_version": "1.2.0",
          "state": {
            "_view_name": "LayoutView",
            "grid_template_rows": null,
            "right": null,
            "justify_content": null,
            "_view_module": "@jupyter-widgets/base",
            "overflow": null,
            "_model_module_version": "1.2.0",
            "_view_count": null,
            "flex_flow": null,
            "width": null,
            "min_width": null,
            "border": null,
            "align_items": null,
            "bottom": null,
            "_model_module": "@jupyter-widgets/base",
            "top": null,
            "grid_column": null,
            "overflow_y": null,
            "overflow_x": null,
            "grid_auto_flow": null,
            "grid_area": null,
            "grid_template_columns": null,
            "flex": null,
            "_model_name": "LayoutModel",
            "justify_items": null,
            "grid_row": null,
            "max_height": null,
            "align_content": null,
            "visibility": null,
            "align_self": null,
            "height": null,
            "min_height": null,
            "padding": null,
            "grid_auto_rows": null,
            "grid_gap": null,
            "max_width": null,
            "order": null,
            "_view_module_version": "1.2.0",
            "grid_template_areas": null,
            "object_position": null,
            "object_fit": null,
            "grid_auto_columns": null,
            "margin": null,
            "display": null,
            "left": null
          }
        },
        "2978be8b6a7846209b34ebbce227e7f8": {
          "model_module": "@jupyter-widgets/controls",
          "model_name": "ProgressStyleModel",
          "model_module_version": "1.5.0",
          "state": {
            "_view_name": "StyleView",
            "_model_name": "ProgressStyleModel",
            "description_width": "",
            "_view_module": "@jupyter-widgets/base",
            "_model_module_version": "1.5.0",
            "_view_count": null,
            "_view_module_version": "1.2.0",
            "bar_color": null,
            "_model_module": "@jupyter-widgets/controls"
          }
        },
        "85c092b538e043848b9ee2febc37602c": {
          "model_module": "@jupyter-widgets/base",
          "model_name": "LayoutModel",
          "model_module_version": "1.2.0",
          "state": {
            "_view_name": "LayoutView",
            "grid_template_rows": null,
            "right": null,
            "justify_content": null,
            "_view_module": "@jupyter-widgets/base",
            "overflow": null,
            "_model_module_version": "1.2.0",
            "_view_count": null,
            "flex_flow": null,
            "width": null,
            "min_width": null,
            "border": null,
            "align_items": null,
            "bottom": null,
            "_model_module": "@jupyter-widgets/base",
            "top": null,
            "grid_column": null,
            "overflow_y": null,
            "overflow_x": null,
            "grid_auto_flow": null,
            "grid_area": null,
            "grid_template_columns": null,
            "flex": "2",
            "_model_name": "LayoutModel",
            "justify_items": null,
            "grid_row": null,
            "max_height": null,
            "align_content": null,
            "visibility": null,
            "align_self": null,
            "height": null,
            "min_height": null,
            "padding": null,
            "grid_auto_rows": null,
            "grid_gap": null,
            "max_width": null,
            "order": null,
            "_view_module_version": "1.2.0",
            "grid_template_areas": null,
            "object_position": null,
            "object_fit": null,
            "grid_auto_columns": null,
            "margin": null,
            "display": null,
            "left": null
          }
        },
        "51e6a13cc2ac4342b79e2e0548a2f836": {
          "model_module": "@jupyter-widgets/controls",
          "model_name": "DescriptionStyleModel",
          "model_module_version": "1.5.0",
          "state": {
            "_view_name": "StyleView",
            "_model_name": "DescriptionStyleModel",
            "description_width": "",
            "_view_module": "@jupyter-widgets/base",
            "_model_module_version": "1.5.0",
            "_view_count": null,
            "_view_module_version": "1.2.0",
            "_model_module": "@jupyter-widgets/controls"
          }
        },
        "59f0c8dc741a4ea9b08ed86e80e22fa8": {
          "model_module": "@jupyter-widgets/base",
          "model_name": "LayoutModel",
          "model_module_version": "1.2.0",
          "state": {
            "_view_name": "LayoutView",
            "grid_template_rows": null,
            "right": null,
            "justify_content": null,
            "_view_module": "@jupyter-widgets/base",
            "overflow": null,
            "_model_module_version": "1.2.0",
            "_view_count": null,
            "flex_flow": null,
            "width": null,
            "min_width": null,
            "border": null,
            "align_items": null,
            "bottom": null,
            "_model_module": "@jupyter-widgets/base",
            "top": null,
            "grid_column": null,
            "overflow_y": null,
            "overflow_x": null,
            "grid_auto_flow": null,
            "grid_area": null,
            "grid_template_columns": null,
            "flex": null,
            "_model_name": "LayoutModel",
            "justify_items": null,
            "grid_row": null,
            "max_height": null,
            "align_content": null,
            "visibility": null,
            "align_self": null,
            "height": null,
            "min_height": null,
            "padding": null,
            "grid_auto_rows": null,
            "grid_gap": null,
            "max_width": null,
            "order": null,
            "_view_module_version": "1.2.0",
            "grid_template_areas": null,
            "object_position": null,
            "object_fit": null,
            "grid_auto_columns": null,
            "margin": null,
            "display": null,
            "left": null
          }
        }
      }
    }
  },
  "cells": [
    {
      "cell_type": "code",
      "execution_count": 1,
      "metadata": {
        "id": "ECkW3cmSmq4K",
        "colab": {
          "base_uri": "https://localhost:8080/"
        },
        "outputId": "9654f11b-0865-4188-f69a-3743e5a0dfbb"
      },
      "outputs": [
        {
          "output_type": "stream",
          "name": "stdout",
          "text": [
            "Mounted at /content/drive\n"
          ]
        }
      ],
      "source": [
        "import pandas as pd\n",
        "import torch\n",
        "import numpy as np\n",
        "from torch.utils.data import TensorDataset, DataLoader\n",
        "import datetime\n",
        "from google.colab import drive\n",
        "from sklearn.model_selection import train_test_split,cross_val_score,cross_val_predict\n",
        "from sklearn.metrics import confusion_matrix, accuracy_score, roc_auc_score, classification_report, recall_score, f1_score\n",
        "from sklearn.ensemble import RandomForestClassifier\n",
        "from sklearn.tree import DecisionTreeClassifier\n",
        "from xgboost.sklearn import XGBClassifier\n",
        "import matplotlib.pyplot as plt\n",
        "from matplotlib.pyplot import *\n",
        "import plotly.graph_objs as go\n",
        "from plotly.offline import iplot, init_notebook_mode\n",
        "import seaborn as sns\n",
        "from scipy.stats.mstats import winsorize\n",
        "import sklearn\n",
        "drive.mount('/content/drive')"
      ]
    },
    {
      "cell_type": "markdown",
      "source": [
        "Data Load"
      ],
      "metadata": {
        "id": "1kep36dI9E8k"
      }
    },
    {
      "cell_type": "code",
      "source": [
        "trainSet = pd.read_csv('/content/drive/MyDrive/Results/trainSet.csv')\n",
        "# testSet = pd.read_csv('/content/drive/MyDrive/Results/testSet.csv')"
      ],
      "metadata": {
        "id": "ooFaJco48Nbf"
      },
      "execution_count": 3,
      "outputs": []
    },
    {
      "cell_type": "code",
      "source": [
        "X = trainSet.drop(['isFraud'], axis=1)\n",
        "y = trainSet['isFraud']"
      ],
      "metadata": {
        "id": "0CGR7BpT9BSG"
      },
      "execution_count": 4,
      "outputs": []
    },
    {
      "cell_type": "markdown",
      "source": [
        "# **I, Models Deployment**"
      ],
      "metadata": {
        "id": "Ebf9IOr-77s1"
      }
    },
    {
      "cell_type": "markdown",
      "source": [
        "**1. Random Forest Classifier**"
      ],
      "metadata": {
        "id": "Vjm73fZG9pXe"
      }
    },
    {
      "cell_type": "code",
      "source": [
        "# Split The data into 2 Pieces\n",
        "X_train1, X_val1, y_train1, y_val1 = train_test_split(X, y, train_size = 0.70, stratify = y, random_state = 40)"
      ],
      "metadata": {
        "id": "DhHsXMji76w5"
      },
      "execution_count": 185,
      "outputs": []
    },
    {
      "cell_type": "code",
      "source": [
        "randForest = RandomForestClassifier() \n",
        "# use default Tree number = 100 in default.\n",
        "randForest.fit(X_train1, y_train1)"
      ],
      "metadata": {
        "colab": {
          "base_uri": "https://localhost:8080/"
        },
        "id": "wqKEpCDP_Fm8",
        "outputId": "e34fa4be-9e9e-4a11-8468-6e1530bf466f"
      },
      "execution_count": 186,
      "outputs": [
        {
          "output_type": "execute_result",
          "data": {
            "text/plain": [
              "RandomForestClassifier()"
            ]
          },
          "metadata": {},
          "execution_count": 186
        }
      ]
    },
    {
      "cell_type": "code",
      "source": [
        "# validate to get Score Observed.\n",
        "y_pred11 = randForest.predict(X_train1)\n",
        "print(classification_report(y_train1, y_pred11, zero_division=0))\n",
        "y_pred12 = randForest.predict(X_val1)\n",
        "print(classification_report(y_val1, y_pred12, zero_division=0))"
      ],
      "metadata": {
        "colab": {
          "base_uri": "https://localhost:8080/"
        },
        "id": "Rda6sl-9_oZ1",
        "outputId": "0c97f5a1-13d7-4854-a2d5-37d21c53507c"
      },
      "execution_count": 211,
      "outputs": [
        {
          "output_type": "stream",
          "name": "stdout",
          "text": [
            "              precision    recall  f1-score   support\n",
            "\n",
            "           0       1.00      1.00      1.00    398914\n",
            "           1       1.00      1.00      1.00     14464\n",
            "\n",
            "    accuracy                           1.00    413378\n",
            "   macro avg       1.00      1.00      1.00    413378\n",
            "weighted avg       1.00      1.00      1.00    413378\n",
            "\n",
            "              precision    recall  f1-score   support\n",
            "\n",
            "           0       0.98      1.00      0.99    170963\n",
            "           1       0.95      0.43      0.59      6199\n",
            "\n",
            "    accuracy                           0.98    177162\n",
            "   macro avg       0.97      0.71      0.79    177162\n",
            "weighted avg       0.98      0.98      0.98    177162\n",
            "\n"
          ]
        }
      ]
    },
    {
      "cell_type": "code",
      "source": [
        "print('Random Forest Valid ROC - AUC score:', roc_auc_score(y_val1, randForest.predict_proba(X_val1)[:, 1]))\n",
        "print('Random Forest Train ROC AUC score:', roc_auc_score(y_train1, randForest.predict_proba(X_train1)[:, 1]))"
      ],
      "metadata": {
        "colab": {
          "base_uri": "https://localhost:8080/"
        },
        "id": "KiL-R4JABWn0",
        "outputId": "6a87f58f-dffc-4f45-ae6e-7e4bd1ad6fc1"
      },
      "execution_count": 187,
      "outputs": [
        {
          "output_type": "stream",
          "name": "stdout",
          "text": [
            "Random Forest Valid ROC - AUC score: 0.9335175970625474\n",
            "Random Forest Train ROC AUC score: 1.0\n"
          ]
        }
      ]
    },
    {
      "cell_type": "code",
      "source": [
        "randForest.fit(X, y)"
      ],
      "metadata": {
        "colab": {
          "base_uri": "https://localhost:8080/"
        },
        "id": "dmrWbvtEtmw2",
        "outputId": "3334ca9b-3b28-49a1-ea36-ce78bd1c267f"
      },
      "execution_count": 254,
      "outputs": [
        {
          "output_type": "execute_result",
          "data": {
            "text/plain": [
              "RandomForestClassifier()"
            ]
          },
          "metadata": {},
          "execution_count": 254
        }
      ]
    },
    {
      "cell_type": "markdown",
      "source": [
        "**2. XGBoost: Thuật toán quốc dân của Kaggler**"
      ],
      "metadata": {
        "id": "4dCVyutPKEz0"
      }
    },
    {
      "cell_type": "code",
      "source": [
        "# Initialize XGBoost models fitting Data Above.\n",
        "X_train2, X_val2, y_train2, y_val2 = train_test_split(X, y, train_size = 0.70, stratify = y, random_state =40)\n",
        "XGBst = XGBClassifier()\n",
        "XGBst.fit(X_train2, y_train2)"
      ],
      "metadata": {
        "id": "PvKzI1RzKrOS",
        "colab": {
          "base_uri": "https://localhost:8080/"
        },
        "outputId": "d37bdf3c-8b67-46ba-ec17-8e233510d544"
      },
      "execution_count": 225,
      "outputs": [
        {
          "output_type": "execute_result",
          "data": {
            "text/plain": [
              "XGBClassifier()"
            ]
          },
          "metadata": {},
          "execution_count": 225
        }
      ]
    },
    {
      "cell_type": "code",
      "source": [
        "# Evaluate Metrics\n",
        "y_pred21 = XGBst.predict(X_train2)\n",
        "y_pred22 = XGBst.predict(X_val2)\n",
        "print(classification_report(y_train2, y_pred21, zero_division=0))\n",
        "print(classification_report(y_val2, y_pred22, zero_division=0))"
      ],
      "metadata": {
        "colab": {
          "base_uri": "https://localhost:8080/"
        },
        "id": "fOVOwLaIikpQ",
        "outputId": "bd88c8b2-2729-4c6b-986b-e65ffc8b6aba"
      },
      "execution_count": 226,
      "outputs": [
        {
          "output_type": "stream",
          "name": "stdout",
          "text": [
            "              precision    recall  f1-score   support\n",
            "\n",
            "           0       0.97      1.00      0.99    398914\n",
            "           1       0.86      0.26      0.40     14464\n",
            "\n",
            "    accuracy                           0.97    413378\n",
            "   macro avg       0.92      0.63      0.69    413378\n",
            "weighted avg       0.97      0.97      0.97    413378\n",
            "\n",
            "              precision    recall  f1-score   support\n",
            "\n",
            "           0       0.97      1.00      0.99    170963\n",
            "           1       0.85      0.26      0.40      6199\n",
            "\n",
            "    accuracy                           0.97    177162\n",
            "   macro avg       0.91      0.63      0.69    177162\n",
            "weighted avg       0.97      0.97      0.97    177162\n",
            "\n"
          ]
        }
      ]
    },
    {
      "cell_type": "code",
      "source": [
        "# Evaluate ROC - AUC curves\n",
        "print('XGBoost Valid ROC - AUC score:', roc_auc_score(y_val2, XGBst.predict_proba(X_val2)[:, 1]))\n",
        "print('XGBoost Train ROC - AUC score:', roc_auc_score(y_train2, XGBst.predict_proba(X_train2)[:, 1]))"
      ],
      "metadata": {
        "colab": {
          "base_uri": "https://localhost:8080/"
        },
        "id": "cRdm2YqvjeTy",
        "outputId": "8131e2d5-13bd-4640-d1fd-d958f8b07e52"
      },
      "execution_count": 227,
      "outputs": [
        {
          "output_type": "stream",
          "name": "stdout",
          "text": [
            "XGBoost Valid ROC - AUC score: 0.881987495434479\n",
            "XGBoost Train ROC - AUC score: 0.8838235490634728\n"
          ]
        }
      ]
    },
    {
      "cell_type": "markdown",
      "source": [
        "**3. LightGBM**"
      ],
      "metadata": {
        "id": "OjqrtXCUkk7h"
      }
    },
    {
      "cell_type": "code",
      "source": [
        "import lightgbm\n",
        "from lightgbm import LGBMClassifier as lgbm\n",
        "# Inititalize LightGBM model\n",
        "X_train3, X_val3, y_train3, y_val3 = train_test_split(X, y, train_size = 0.70, stratify = y, random_state = 40)\n",
        "LightMod = lgbm(\n",
        "    max_bin = 50,  # max feature in 76 feature sum of dataset, but it may slow down train time\n",
        "    boosting_type = 'gbdt',\n",
        "    objective = 'binary',\n",
        "    metric = 'auc',\n",
        "    sub_feature = 0.5,\n",
        "    num_leaves = 255, # fine tune <= pow(2, max_depth)\n",
        "    min_data_in_leaf = 1,\n",
        "    max_depth = 10,\n",
        "    seed = 40,\n",
        "    feature_fraction_seed = 40,\n",
        "    bagging_seed = 40,\n",
        "    drop_seed = 40,\n",
        "    data_random_seed = 40,\n",
        "    is_unbalance = True,\n",
        "    save_binary = True,     # boosting speed convex\n",
        "    is_dfing_metric  = False,\n",
        "    num_iterations = 500,\n",
        "    min_sum_hessian_in_leaf = 100, # useful\n",
        "    sparse_threshold = 1.0,\n",
        "    tree_learner = 'serial',\n",
        "    verbose = 1,\n",
        "    boost_from_average = False\n",
        ")\n",
        "LightMod.fit(X_train3, y_train3)"
      ],
      "metadata": {
        "colab": {
          "base_uri": "https://localhost:8080/"
        },
        "id": "CsQM9xNAlilJ",
        "outputId": "02d107f1-ae4e-4993-a962-9ea5cd46080d"
      },
      "execution_count": 222,
      "outputs": [
        {
          "output_type": "stream",
          "name": "stderr",
          "text": [
            "/usr/local/lib/python3.7/dist-packages/lightgbm/engine.py:118: UserWarning:\n",
            "\n",
            "Found `num_iterations` in params. Will use it instead of argument\n",
            "\n"
          ]
        },
        {
          "output_type": "execute_result",
          "data": {
            "text/plain": [
              "LGBMClassifier(bagging_seed=40, boost_from_average=False, data_random_seed=40,\n",
              "               drop_seed=40, feature_fraction_seed=40, is_dfing_metric=False,\n",
              "               is_unbalance=True, max_bin=50, max_depth=10, metric='auc',\n",
              "               min_data_in_leaf=1, min_sum_hessian_in_leaf=100,\n",
              "               num_iterations=500, num_leaves=255, objective='binary',\n",
              "               save_binary=True, seed=40, sparse_threshold=1.0, sub_feature=0.5,\n",
              "               tree_learner='serial', verbose=1)"
            ]
          },
          "metadata": {},
          "execution_count": 222
        }
      ]
    },
    {
      "cell_type": "code",
      "source": [
        "# Prediction and Evaluate\n",
        "y_pred32 = LightMod.predict(X_val3)\n",
        "y_pred31 = LightMod.predict(X_train3)\n",
        "print(classification_report(y_val3, y_pred32, zero_division=0))\n",
        "print(classification_report(y_train3, y_pred31, zero_division=0))"
      ],
      "metadata": {
        "colab": {
          "base_uri": "https://localhost:8080/"
        },
        "id": "ua-ez1s_nGAY",
        "outputId": "0a7a76ea-909b-41d5-964c-568544c3bdb7"
      },
      "execution_count": 223,
      "outputs": [
        {
          "output_type": "stream",
          "name": "stdout",
          "text": [
            "              precision    recall  f1-score   support\n",
            "\n",
            "           0       0.99      0.97      0.98    170963\n",
            "           1       0.47      0.81      0.60      6199\n",
            "\n",
            "    accuracy                           0.96    177162\n",
            "   macro avg       0.73      0.89      0.79    177162\n",
            "weighted avg       0.97      0.96      0.97    177162\n",
            "\n",
            "              precision    recall  f1-score   support\n",
            "\n",
            "           0       1.00      0.97      0.99    398914\n",
            "           1       0.57      0.98      0.72     14464\n",
            "\n",
            "    accuracy                           0.97    413378\n",
            "   macro avg       0.78      0.98      0.85    413378\n",
            "weighted avg       0.98      0.97      0.98    413378\n",
            "\n"
          ]
        }
      ]
    },
    {
      "cell_type": "code",
      "source": [
        "# ROC - AUC Evaluate\n",
        "print('LightGBM Valid ROC - AUC score:', roc_auc_score(y_val3, LightMod.predict_proba(X_val3)[:, 1]))\n",
        "print('LightGBM Train ROC - AUC score:', roc_auc_score(y_train3, LightMod.predict_proba(X_train3)[:, 1]))"
      ],
      "metadata": {
        "colab": {
          "base_uri": "https://localhost:8080/"
        },
        "id": "myJpFpmaEF49",
        "outputId": "ee25f6f3-e99f-4dd3-c9c1-44de05ecc8f5"
      },
      "execution_count": 224,
      "outputs": [
        {
          "output_type": "stream",
          "name": "stdout",
          "text": [
            "LightGBM Valid ROC - AUC score: 0.9596925659260251\n",
            "LightGBM Train ROC - AUC score: 0.9971161573348079\n"
          ]
        }
      ]
    },
    {
      "cell_type": "code",
      "source": [
        "LightMod.fit(X, y)"
      ],
      "metadata": {
        "colab": {
          "base_uri": "https://localhost:8080/"
        },
        "id": "fJrEgONMrJAQ",
        "outputId": "9e420d9b-64c5-4c09-ac9e-8ab4476eb9d4"
      },
      "execution_count": 248,
      "outputs": [
        {
          "output_type": "stream",
          "name": "stderr",
          "text": [
            "/usr/local/lib/python3.7/dist-packages/lightgbm/engine.py:118: UserWarning:\n",
            "\n",
            "Found `num_iterations` in params. Will use it instead of argument\n",
            "\n"
          ]
        },
        {
          "output_type": "execute_result",
          "data": {
            "text/plain": [
              "LGBMClassifier(bagging_seed=40, boost_from_average=False, data_random_seed=40,\n",
              "               drop_seed=40, feature_fraction_seed=40, is_dfing_metric=False,\n",
              "               is_unbalance=True, max_bin=50, max_depth=10, metric='auc',\n",
              "               min_data_in_leaf=1, min_sum_hessian_in_leaf=100,\n",
              "               num_iterations=500, num_leaves=255, objective='binary',\n",
              "               save_binary=True, seed=40, sparse_threshold=1.0, sub_feature=0.5,\n",
              "               tree_learner='serial', verbose=1)"
            ]
          },
          "metadata": {},
          "execution_count": 248
        }
      ]
    },
    {
      "cell_type": "markdown",
      "source": [
        "**3. Multilayer Perceptron**"
      ],
      "metadata": {
        "id": "LW9u9geQsmd1"
      }
    },
    {
      "cell_type": "code",
      "source": [
        "import torch\n",
        "from torch.utils.data import TensorDataset, DataLoader\n",
        "from torch import nn\n",
        "from torchvision import datasets, transforms\n",
        "from torch.utils.data import Subset\n",
        "from torch.utils.tensorboard import SummaryWriter\n",
        "import torchvision"
      ],
      "metadata": {
        "id": "fHcweEUWX1NF"
      },
      "execution_count": 9,
      "outputs": []
    },
    {
      "cell_type": "code",
      "source": [
        "trainSetLight = pd.read_csv('/content/drive/MyDrive/Results/trainSetLight.csv')"
      ],
      "metadata": {
        "id": "1rJRg8D0a1Lk"
      },
      "execution_count": 6,
      "outputs": []
    },
    {
      "cell_type": "code",
      "source": [
        "X_lite = trainSetLight.drop(['isFraud'], axis=1)\n",
        "y_lite = trainSetLight['isFraud']"
      ],
      "metadata": {
        "id": "JGE1-kS_bFeM"
      },
      "execution_count": 28,
      "outputs": []
    },
    {
      "cell_type": "code",
      "source": [
        "device = 'cuda' if torch.cuda.is_available() else 'cpu'"
      ],
      "metadata": {
        "id": "xZZCkalFc1gl"
      },
      "execution_count": 10,
      "outputs": []
    },
    {
      "cell_type": "code",
      "source": [
        "!pip install pytorch_lightning"
      ],
      "metadata": {
        "id": "f7HmzYPNc26r"
      },
      "execution_count": null,
      "outputs": []
    },
    {
      "cell_type": "code",
      "source": [
        "import pytorch_lightning as pl\n",
        "import math"
      ],
      "metadata": {
        "id": "ACkSfKiXc71D"
      },
      "execution_count": 12,
      "outputs": []
    },
    {
      "cell_type": "code",
      "source": [
        "# Convert Dataset to pytorch Tensor\n",
        "targets = torch.tensor(y_lite.values.astype(np.float32).reshape(-1, 1))\n",
        "features = torch.tensor(X_lite.values.astype(np.float32))\n",
        "trainSetLite = TensorDataset(features, targets)\n",
        "# train_loader = data_utils.DataLoader(trainSetLite, batch_size=16, shuffle=True)\n",
        "# Split datasets into 25% validation and 75% train with Hyper parameter batch size = 16.\n",
        "train_idx, val_idx = train_test_split(list(range(len(trainSetLite))), test_size=0.25)\n",
        "datasets = {}\n",
        "datasets['train'] = Subset(trainSetLite, train_idx)\n",
        "datasets['validate'] = Subset(trainSetLite, val_idx)\n",
        "dataloaders = {x:DataLoader(datasets[x], 32, shuffle=False, num_workers= 1) for x in ['train','validate']}"
      ],
      "metadata": {
        "id": "yQ6ZCOPQZqOu"
      },
      "execution_count": 163,
      "outputs": []
    },
    {
      "cell_type": "code",
      "source": [
        "# Constructing NN in Pytorch Lightning\n",
        "class NeuralNet(pl.LightningModule):\n",
        "  def __init__(self):\n",
        "    super().__init__()\n",
        "    self.layers = nn.Sequential(\n",
        "      nn.LayerNorm(40),\n",
        "      nn.Linear(40, 500, bias = True), # Corresponding 40 features of Lite Dataset\n",
        "      nn.LeakyReLU(),\n",
        "      nn.Linear(500, 100, bias = True),\n",
        "      nn.ReLU(),\n",
        "      nn.Linear(100, 1, bias = True),\n",
        "      nn.Sigmoid()\n",
        "    )\n",
        "    self.ce = torch.nn.MSELoss()\n",
        "    \n",
        "  def forward(self, x):\n",
        "    return self.layers(x)\n",
        "\n",
        "  def training_step(self, batch, batch_idx):\n",
        "    x, y = batch\n",
        "    x = x.view(x.size(0), -1)\n",
        "    y_hat = self.layers(x)\n",
        "    loss = self.ce(y_hat, y)\n",
        "    self.log('train_loss', loss)\n",
        "    return loss\n",
        "  \n",
        "  def configure_optimizers(self):\n",
        "    optimizer = torch.optim.SGD(modelnn.parameters(), lr=0.0001, momentum = 0.9, weight_decay=0.0001)\n",
        "    return optimizer"
      ],
      "metadata": {
        "id": "H53O3bzldFK-"
      },
      "execution_count": 167,
      "outputs": []
    },
    {
      "cell_type": "code",
      "source": [
        "modelnn = NeuralNet()\n",
        "# As Long Using Stochastic Gradient Descent to optimizing model params\n",
        "# Hyper Parameter learning rate = 0.0001 and momentum = 0.9 to pass the local Extreme point. Need to statistical in more time training.\n",
        "# Using Cross Entropy Loss Error.\n",
        "training_loader = torch.utils.data.DataLoader(datasets['train'], batch_size=32, shuffle=True, num_workers=1, pin_memory=False)\n",
        "validation_loader = torch.utils.data.DataLoader(datasets['validate'], batch_size=32, shuffle=True, num_workers=1, pin_memory=False)"
      ],
      "metadata": {
        "id": "mE8YNgQ9d0VS"
      },
      "execution_count": 168,
      "outputs": []
    },
    {
      "cell_type": "code",
      "source": [
        "pl.seed_everything(40)\n",
        "trainer = pl.Trainer(gpus=0, deterministic=True, max_epochs=20)\n",
        "trainer.fit(modelnn, training_loader)"
      ],
      "metadata": {
        "colab": {
          "base_uri": "https://localhost:8080/",
          "height": 448,
          "referenced_widgets": [
            "71f8b65f012f4ef682db5042d2b12301",
            "75f691d971714307b901afbf7de9042e",
            "71bd76d159b946c38c1a58577dad957c",
            "6587d2ecd7224391a3f0cce8a45bfa9c",
            "00a7101b66d84296b4d57a8fe8ee1033",
            "31868639dc064713904466acc46dbd6b",
            "e39d8a88e18a4bb3b2312d1259210374",
            "2978be8b6a7846209b34ebbce227e7f8",
            "85c092b538e043848b9ee2febc37602c",
            "51e6a13cc2ac4342b79e2e0548a2f836",
            "59f0c8dc741a4ea9b08ed86e80e22fa8"
          ]
        },
        "id": "kYuhHIz1d8vD",
        "outputId": "939b3fb5-5f21-41db-f0d3-715911eb5fa3"
      },
      "execution_count": 169,
      "outputs": [
        {
          "output_type": "stream",
          "name": "stderr",
          "text": [
            "Global seed set to 40\n",
            "GPU available: False, used: False\n",
            "TPU available: False, using: 0 TPU cores\n",
            "IPU available: False, using: 0 IPUs\n",
            "\n",
            "  | Name   | Type       | Params\n",
            "--------------------------------------\n",
            "0 | layers | Sequential | 70.8 K\n",
            "1 | ce     | MSELoss    | 0     \n",
            "--------------------------------------\n",
            "70.8 K    Trainable params\n",
            "0         Non-trainable params\n",
            "70.8 K    Total params\n",
            "0.283     Total estimated model params size (MB)\n"
          ]
        },
        {
          "output_type": "display_data",
          "data": {
            "application/vnd.jupyter.widget-view+json": {
              "model_id": "71f8b65f012f4ef682db5042d2b12301",
              "version_minor": 0,
              "version_major": 2
            },
            "text/plain": [
              "Training: 0it [00:00, ?it/s]"
            ]
          },
          "metadata": {}
        },
        {
          "output_type": "stream",
          "name": "stderr",
          "text": [
            "Exception ignored in: <function _MultiProcessingDataLoaderIter.__del__ at 0x7f72c79abb00>\n",
            "Traceback (most recent call last):\n",
            "  File \"/usr/local/lib/python3.7/dist-packages/torch/utils/data/dataloader.py\", line 1328, in __del__\n",
            "    self._shutdown_workers()\n",
            "  File \"/usr/local/lib/python3.7/dist-packages/torch/utils/data/dataloader.py\", line 1320, in _shutdown_workers\n",
            "    if w.is_alive():\n",
            "  File \"/usr/lib/python3.7/multiprocessing/process.py\", line 151, in is_alive\n",
            "    assert self._parent_pid == os.getpid(), 'can only test a child process'\n",
            "AssertionError: can only test a child process\n"
          ]
        }
      ]
    },
    {
      "cell_type": "code",
      "source": [
        "type(datasets['validate'])"
      ],
      "metadata": {
        "colab": {
          "base_uri": "https://localhost:8080/"
        },
        "id": "Z_Vry7qiGq5g",
        "outputId": "f2603a4b-db27-4ac0-fd5b-c4cb345074ac"
      },
      "execution_count": 176,
      "outputs": [
        {
          "output_type": "execute_result",
          "data": {
            "text/plain": [
              "torch.utils.data.dataset.Subset"
            ]
          },
          "metadata": {},
          "execution_count": 176
        }
      ]
    },
    {
      "cell_type": "code",
      "source": [
        "y_pred_nn = modelnn(features)"
      ],
      "metadata": {
        "colab": {
          "base_uri": "https://localhost:8080/"
        },
        "id": "SLYTZz05FQVw",
        "outputId": "63bc2ae5-1e68-481a-d151-e124869ca23f"
      },
      "execution_count": 175,
      "outputs": [
        {
          "output_type": "execute_result",
          "data": {
            "text/plain": [
              "tensor([[0.0371],\n",
              "        [0.0355],\n",
              "        [0.0359],\n",
              "        ...,\n",
              "        [0.0355],\n",
              "        [0.0355],\n",
              "        [0.0355]], grad_fn=<SigmoidBackward0>)"
            ]
          },
          "metadata": {},
          "execution_count": 175
        }
      ]
    },
    {
      "cell_type": "code",
      "source": [
        "yprednn = y_pred_nn.detach().numpy().reshape(590540)"
      ],
      "metadata": {
        "id": "8gfZyq2eHpia"
      },
      "execution_count": 204,
      "outputs": []
    },
    {
      "cell_type": "code",
      "source": [
        "# ROC - AUC Evaluate\n",
        "print('Neural Network Valid ROC - AUC score:', roc_auc_score(y_lite, yprednn))"
      ],
      "metadata": {
        "colab": {
          "base_uri": "https://localhost:8080/"
        },
        "id": "9MFC9yi7IFzH",
        "outputId": "57f1b1b1-07a0-42f6-8650-be2dcff7420b"
      },
      "execution_count": 208,
      "outputs": [
        {
          "output_type": "stream",
          "name": "stdout",
          "text": [
            "Neural Network Valid ROC - AUC score: 0.4360295511232152\n"
          ]
        }
      ]
    },
    {
      "cell_type": "markdown",
      "source": [
        "**S. LightGBM with Lite Dataset**"
      ],
      "metadata": {
        "id": "iqdN35eCOYA9"
      }
    },
    {
      "cell_type": "code",
      "source": [
        "import lightgbm\n",
        "from lightgbm import LGBMClassifier as lgbm"
      ],
      "metadata": {
        "id": "qf9nXBnrPJOt"
      },
      "execution_count": 215,
      "outputs": []
    },
    {
      "cell_type": "code",
      "source": [
        "X_trainLite, X_valLite, y_trainLite, y_valLite = train_test_split(X_lite, y_lite, train_size = 0.70, stratify = y, random_state = 40)\n",
        "LightLite = lgbm(\n",
        "    max_bin = 50,  # max feature in 76 feature sum of dataset, but it may slow down train time\n",
        "    boosting_type = 'gbdt',\n",
        "    objective = 'binary',\n",
        "    metric = 'auc',\n",
        "    sub_feature = 0.5,\n",
        "    num_leaves = 255, # fine tune <= pow(2, max_depth)\n",
        "    min_data_in_leaf = 1,\n",
        "    max_depth = 10,\n",
        "    seed = 40,\n",
        "    feature_fraction_seed = 40,\n",
        "    bagging_seed = 40,\n",
        "    drop_seed = 40,\n",
        "    data_random_seed = 40,\n",
        "    is_unbalance = True,\n",
        "    save_binary = True,     # boosting speed convex\n",
        "    is_dfing_metric  = False,\n",
        "    num_iterations = 500,\n",
        "    min_sum_hessian_in_leaf = 100, # useful\n",
        "    sparse_threshold = 1.0,\n",
        "    tree_learner = 'serial',\n",
        "    verbose = 1,\n",
        "    boost_from_average = False\n",
        ")\n",
        "LightLite.fit(X_trainLite, y_trainLite)"
      ],
      "metadata": {
        "colab": {
          "base_uri": "https://localhost:8080/"
        },
        "id": "Cfc2VlX6OgNl",
        "outputId": "971e3559-7624-4733-d36e-6ceaab449855"
      },
      "execution_count": 217,
      "outputs": [
        {
          "output_type": "stream",
          "name": "stderr",
          "text": [
            "/usr/local/lib/python3.7/dist-packages/lightgbm/engine.py:118: UserWarning:\n",
            "\n",
            "Found `num_iterations` in params. Will use it instead of argument\n",
            "\n"
          ]
        },
        {
          "output_type": "execute_result",
          "data": {
            "text/plain": [
              "LGBMClassifier(bagging_seed=40, boost_from_average=False, data_random_seed=40,\n",
              "               drop_seed=40, feature_fraction_seed=40, is_dfing_metric=False,\n",
              "               is_unbalance=True, max_bin=50, max_depth=10, metric='auc',\n",
              "               min_data_in_leaf=1, min_sum_hessian_in_leaf=100,\n",
              "               num_iterations=500, num_leaves=255, objective='binary',\n",
              "               save_binary=True, seed=40, sparse_threshold=1.0, sub_feature=0.5,\n",
              "               tree_learner='serial', verbose=1)"
            ]
          },
          "metadata": {},
          "execution_count": 217
        }
      ]
    },
    {
      "cell_type": "code",
      "source": [
        "# Prediction and Evaluate with Lite Dataset\n",
        "y_predLiteVal = LightLite.predict(X_valLite)\n",
        "y_predLiteTrain = LightLite.predict(X_trainLite)\n",
        "print(classification_report(y_valLite, y_predLiteVal, zero_division=0))\n",
        "print(classification_report(y_trainLite, y_predLiteTrain, zero_division=0))"
      ],
      "metadata": {
        "colab": {
          "base_uri": "https://localhost:8080/"
        },
        "id": "suHpNK6qPXit",
        "outputId": "a76ee7fd-2880-4b9f-84db-507056ce5add"
      },
      "execution_count": 218,
      "outputs": [
        {
          "output_type": "stream",
          "name": "stdout",
          "text": [
            "              precision    recall  f1-score   support\n",
            "\n",
            "           0       0.99      0.97      0.98    170963\n",
            "           1       0.48      0.80      0.60      6199\n",
            "\n",
            "    accuracy                           0.96    177162\n",
            "   macro avg       0.74      0.89      0.79    177162\n",
            "weighted avg       0.97      0.96      0.97    177162\n",
            "\n",
            "              precision    recall  f1-score   support\n",
            "\n",
            "           0       1.00      0.97      0.99    398914\n",
            "           1       0.58      0.99      0.73     14464\n",
            "\n",
            "    accuracy                           0.97    413378\n",
            "   macro avg       0.79      0.98      0.86    413378\n",
            "weighted avg       0.98      0.97      0.98    413378\n",
            "\n"
          ]
        }
      ]
    },
    {
      "cell_type": "code",
      "source": [
        "# ROC - AUC Evaluate\n",
        "print('LightGBM Valid with Lite Data ROC - AUC score:', roc_auc_score(y_valLite, LightLite.predict_proba(X_valLite)[:, 1]))\n",
        "print('LightGBM Train with Lite Data ROC - AUC score:', roc_auc_score(y_trainLite, LightLite.predict_proba(X_trainLite)[:, 1]))"
      ],
      "metadata": {
        "colab": {
          "base_uri": "https://localhost:8080/"
        },
        "id": "BaL-P79yP4lt",
        "outputId": "34afd7ac-5bb1-464e-b8b4-d613055f610c"
      },
      "execution_count": 221,
      "outputs": [
        {
          "output_type": "stream",
          "name": "stdout",
          "text": [
            "LightGBM Valid with Lite Data ROC - AUC score: 0.9580798837356085\n",
            "LightGBM Train with Lite Data ROC - AUC score: 0.9975235393032904\n"
          ]
        }
      ]
    },
    {
      "cell_type": "code",
      "source": [
        "LightLite.fit(X_lite, y_lite)"
      ],
      "metadata": {
        "colab": {
          "base_uri": "https://localhost:8080/"
        },
        "id": "olaE6cpbsuKt",
        "outputId": "6dbe8224-a334-40c0-b9ac-0bad3b90b9ff"
      },
      "execution_count": 251,
      "outputs": [
        {
          "output_type": "stream",
          "name": "stderr",
          "text": [
            "/usr/local/lib/python3.7/dist-packages/lightgbm/engine.py:118: UserWarning:\n",
            "\n",
            "Found `num_iterations` in params. Will use it instead of argument\n",
            "\n"
          ]
        },
        {
          "output_type": "execute_result",
          "data": {
            "text/plain": [
              "LGBMClassifier(bagging_seed=40, boost_from_average=False, data_random_seed=40,\n",
              "               drop_seed=40, feature_fraction_seed=40, is_dfing_metric=False,\n",
              "               is_unbalance=True, max_bin=50, max_depth=10, metric='auc',\n",
              "               min_data_in_leaf=1, min_sum_hessian_in_leaf=100,\n",
              "               num_iterations=500, num_leaves=255, objective='binary',\n",
              "               save_binary=True, seed=40, sparse_threshold=1.0, sub_feature=0.5,\n",
              "               tree_learner='serial', verbose=1)"
            ]
          },
          "metadata": {},
          "execution_count": 251
        }
      ]
    },
    {
      "cell_type": "markdown",
      "source": [
        "# **II, Evaluation**"
      ],
      "metadata": {
        "id": "i5C_a5CJRXTq"
      }
    },
    {
      "cell_type": "code",
      "source": [
        "# Random Forest\n",
        "y_pred = randForest.predict(X_val1)\n",
        "RF_recall = recall_score(y_val1, y_pred)\n",
        "RF_f1 = f1_score(y_val1, y_pred)\n",
        "RF_auc = roc_auc_score(y_val1, randForest.predict_proba(X_val1)[:, 1])\n",
        "\n",
        "# XGBoost\n",
        "y_pred = XGBst.predict(X_val2)\n",
        "XGB_recall = recall_score(y_val2, y_pred)\n",
        "XGB_f1 = f1_score(y_val2, y_pred)\n",
        "XGB_auc = roc_auc_score(y_val2, XGBst.predict_proba(X_val2)[:, 1])\n",
        "\n",
        "# LightGBM\n",
        "y_pred = LightMod.predict(X_val3)\n",
        "LGBM_recall = recall_score(y_val3, y_pred)\n",
        "LGBM_f1 = f1_score(y_val3, y_pred)\n",
        "LGBM_auc = roc_auc_score(y_val3, LightMod.predict_proba(X_val3)[:, 1])\n",
        "\n",
        "# Neural Net\n",
        "NN_auc = roc_auc_score(y_lite, yprednn)\n",
        "\n",
        "# Evaluation Table\n",
        "evaluation =pd.DataFrame({ 'MODEL':[\"Random Forest\", \"XGBoost\", \"LightGBM\", \"MLP\"], 'RECALL':[RF_recall, XGB_recall, LGBM_recall, np.nan],\n",
        "                                                'F1':[RF_f1, XGB_f1, LGBM_f1, np.nan], 'AUC':[RF_auc, XGB_auc, LGBM_auc, NN_auc]})"
      ],
      "metadata": {
        "id": "n_DBZBWpR1kO"
      },
      "execution_count": 233,
      "outputs": []
    },
    {
      "cell_type": "code",
      "source": [
        "evaluation"
      ],
      "metadata": {
        "colab": {
          "base_uri": "https://localhost:8080/",
          "height": 175
        },
        "id": "fkC6CeFfUIjj",
        "outputId": "df2f852e-022b-4797-8e13-97ed7972893d"
      },
      "execution_count": 234,
      "outputs": [
        {
          "output_type": "execute_result",
          "data": {
            "text/html": [
              "\n",
              "  <div id=\"df-8d1e388f-1120-4ea8-84d1-36ec24a29293\">\n",
              "    <div class=\"colab-df-container\">\n",
              "      <div>\n",
              "<style scoped>\n",
              "    .dataframe tbody tr th:only-of-type {\n",
              "        vertical-align: middle;\n",
              "    }\n",
              "\n",
              "    .dataframe tbody tr th {\n",
              "        vertical-align: top;\n",
              "    }\n",
              "\n",
              "    .dataframe thead th {\n",
              "        text-align: right;\n",
              "    }\n",
              "</style>\n",
              "<table border=\"1\" class=\"dataframe\">\n",
              "  <thead>\n",
              "    <tr style=\"text-align: right;\">\n",
              "      <th></th>\n",
              "      <th>MODEL</th>\n",
              "      <th>RECALL</th>\n",
              "      <th>F1</th>\n",
              "      <th>AUC</th>\n",
              "    </tr>\n",
              "  </thead>\n",
              "  <tbody>\n",
              "    <tr>\n",
              "      <th>0</th>\n",
              "      <td>Random Forest</td>\n",
              "      <td>0.428456</td>\n",
              "      <td>0.591142</td>\n",
              "      <td>0.933518</td>\n",
              "    </tr>\n",
              "    <tr>\n",
              "      <th>1</th>\n",
              "      <td>XGBoost</td>\n",
              "      <td>0.259719</td>\n",
              "      <td>0.397776</td>\n",
              "      <td>0.881987</td>\n",
              "    </tr>\n",
              "    <tr>\n",
              "      <th>2</th>\n",
              "      <td>LightGBM</td>\n",
              "      <td>0.806582</td>\n",
              "      <td>0.595628</td>\n",
              "      <td>0.959693</td>\n",
              "    </tr>\n",
              "    <tr>\n",
              "      <th>3</th>\n",
              "      <td>MLP</td>\n",
              "      <td>NaN</td>\n",
              "      <td>NaN</td>\n",
              "      <td>0.436030</td>\n",
              "    </tr>\n",
              "  </tbody>\n",
              "</table>\n",
              "</div>\n",
              "      <button class=\"colab-df-convert\" onclick=\"convertToInteractive('df-8d1e388f-1120-4ea8-84d1-36ec24a29293')\"\n",
              "              title=\"Convert this dataframe to an interactive table.\"\n",
              "              style=\"display:none;\">\n",
              "        \n",
              "  <svg xmlns=\"http://www.w3.org/2000/svg\" height=\"24px\"viewBox=\"0 0 24 24\"\n",
              "       width=\"24px\">\n",
              "    <path d=\"M0 0h24v24H0V0z\" fill=\"none\"/>\n",
              "    <path d=\"M18.56 5.44l.94 2.06.94-2.06 2.06-.94-2.06-.94-.94-2.06-.94 2.06-2.06.94zm-11 1L8.5 8.5l.94-2.06 2.06-.94-2.06-.94L8.5 2.5l-.94 2.06-2.06.94zm10 10l.94 2.06.94-2.06 2.06-.94-2.06-.94-.94-2.06-.94 2.06-2.06.94z\"/><path d=\"M17.41 7.96l-1.37-1.37c-.4-.4-.92-.59-1.43-.59-.52 0-1.04.2-1.43.59L10.3 9.45l-7.72 7.72c-.78.78-.78 2.05 0 2.83L4 21.41c.39.39.9.59 1.41.59.51 0 1.02-.2 1.41-.59l7.78-7.78 2.81-2.81c.8-.78.8-2.07 0-2.86zM5.41 20L4 18.59l7.72-7.72 1.47 1.35L5.41 20z\"/>\n",
              "  </svg>\n",
              "      </button>\n",
              "      \n",
              "  <style>\n",
              "    .colab-df-container {\n",
              "      display:flex;\n",
              "      flex-wrap:wrap;\n",
              "      gap: 12px;\n",
              "    }\n",
              "\n",
              "    .colab-df-convert {\n",
              "      background-color: #E8F0FE;\n",
              "      border: none;\n",
              "      border-radius: 50%;\n",
              "      cursor: pointer;\n",
              "      display: none;\n",
              "      fill: #1967D2;\n",
              "      height: 32px;\n",
              "      padding: 0 0 0 0;\n",
              "      width: 32px;\n",
              "    }\n",
              "\n",
              "    .colab-df-convert:hover {\n",
              "      background-color: #E2EBFA;\n",
              "      box-shadow: 0px 1px 2px rgba(60, 64, 67, 0.3), 0px 1px 3px 1px rgba(60, 64, 67, 0.15);\n",
              "      fill: #174EA6;\n",
              "    }\n",
              "\n",
              "    [theme=dark] .colab-df-convert {\n",
              "      background-color: #3B4455;\n",
              "      fill: #D2E3FC;\n",
              "    }\n",
              "\n",
              "    [theme=dark] .colab-df-convert:hover {\n",
              "      background-color: #434B5C;\n",
              "      box-shadow: 0px 1px 3px 1px rgba(0, 0, 0, 0.15);\n",
              "      filter: drop-shadow(0px 1px 2px rgba(0, 0, 0, 0.3));\n",
              "      fill: #FFFFFF;\n",
              "    }\n",
              "  </style>\n",
              "\n",
              "      <script>\n",
              "        const buttonEl =\n",
              "          document.querySelector('#df-8d1e388f-1120-4ea8-84d1-36ec24a29293 button.colab-df-convert');\n",
              "        buttonEl.style.display =\n",
              "          google.colab.kernel.accessAllowed ? 'block' : 'none';\n",
              "\n",
              "        async function convertToInteractive(key) {\n",
              "          const element = document.querySelector('#df-8d1e388f-1120-4ea8-84d1-36ec24a29293');\n",
              "          const dataTable =\n",
              "            await google.colab.kernel.invokeFunction('convertToInteractive',\n",
              "                                                     [key], {});\n",
              "          if (!dataTable) return;\n",
              "\n",
              "          const docLinkHtml = 'Like what you see? Visit the ' +\n",
              "            '<a target=\"_blank\" href=https://colab.research.google.com/notebooks/data_table.ipynb>data table notebook</a>'\n",
              "            + ' to learn more about interactive tables.';\n",
              "          element.innerHTML = '';\n",
              "          dataTable['output_type'] = 'display_data';\n",
              "          await google.colab.output.renderOutput(dataTable, element);\n",
              "          const docLink = document.createElement('div');\n",
              "          docLink.innerHTML = docLinkHtml;\n",
              "          element.appendChild(docLink);\n",
              "        }\n",
              "      </script>\n",
              "    </div>\n",
              "  </div>\n",
              "  "
            ],
            "text/plain": [
              "           MODEL    RECALL        F1       AUC\n",
              "0  Random Forest  0.428456  0.591142  0.933518\n",
              "1        XGBoost  0.259719  0.397776  0.881987\n",
              "2       LightGBM  0.806582  0.595628  0.959693\n",
              "3            MLP       NaN       NaN  0.436030"
            ]
          },
          "metadata": {},
          "execution_count": 234
        }
      ]
    },
    {
      "cell_type": "code",
      "source": [
        "from sklearn import metrics\n",
        "plt.figure()\n",
        "y_pred = randForest.predict_proba(X_val1)[:, 1]\n",
        "FPR, TPR, _ = metrics.roc_curve(y_val1, y_pred)\n",
        "plt.plot(FPR, TPR, label = \"Random Forest ~ \" + str(metrics.roc_auc_score(y_val1, y_pred)))\n",
        "y_pred = XGBst.predict_proba(X_val2)[:, 1]\n",
        "FPR, TPR, _ = metrics.roc_curve(y_val2, y_pred)\n",
        "plt.plot(FPR, TPR, label = \"XGBoost ~ \" + str(metrics.roc_auc_score(y_val2, y_pred)))\n",
        "y_pred = LightMod.predict_proba(X_val3)[:, 1]\n",
        "FPR, TPR, _ = metrics.roc_curve(y_val3, y_pred)\n",
        "plt.plot(FPR, TPR, label = \"LightGBM ~ \" + str(metrics.roc_auc_score(y_val3, y_pred)))\n",
        "FPR, TPR, _ = metrics.roc_curve(y_lite, yprednn)\n",
        "plt.plot(FPR, TPR, label = \"Neural Net ~ \" + str(metrics.roc_auc_score(y_lite, yprednn)))\n",
        "\n",
        "plt.title(\"AUC - ROC curves\")\n",
        "plt.legend()\n",
        "plt.show()"
      ],
      "metadata": {
        "colab": {
          "base_uri": "https://localhost:8080/",
          "height": 281
        },
        "id": "7AGAs837W8sc",
        "outputId": "a1347f76-2bc0-474c-a4e7-0cb88417f65f"
      },
      "execution_count": 237,
      "outputs": [
        {
          "output_type": "display_data",
          "data": {
            "image/png": "[encoded data removed]",
            "text/plain": [
              "<Figure size 432x288 with 1 Axes>"
            ]
          },
          "metadata": {
            "needs_background": "light"
          }
        }
      ]
    },
    {
      "cell_type": "markdown",
      "source": [
        "# **III, Predict Kaggle Test**"
      ],
      "metadata": {
        "id": "32gB3shfbuha"
      }
    },
    {
      "cell_type": "code",
      "source": [
        "testSet = pd.read_csv('/content/drive/MyDrive/Results/testSet.csv')"
      ],
      "metadata": {
        "id": "x3khqQLZbt2Z"
      },
      "execution_count": 238,
      "outputs": []
    },
    {
      "cell_type": "code",
      "source": [
        "# After read the Dataset, Use form Submission to fill the Final results\n",
        "my_submission= pd.read_csv('/content/drive/MyDrive/IFE/sample_submission.csv')\n",
        "my_submission['isFraud'] = pd.DataFrame(LightMod.predict_proba(testSet))[[1]]"
      ],
      "metadata": {
        "id": "pbDOLZT2cQUR"
      },
      "execution_count": 249,
      "outputs": []
    },
    {
      "cell_type": "code",
      "source": [
        "my_submission.to_csv('/content/drive/MyDrive/Results/my_submission.csv', index = False)"
      ],
      "metadata": {
        "id": "nXWSBuFZetcY"
      },
      "execution_count": 250,
      "outputs": []
    },
    {
      "cell_type": "code",
      "source": [
        "my_submission.head(10)"
      ],
      "metadata": {
        "colab": {
          "base_uri": "https://localhost:8080/",
          "height": 363
        },
        "id": "qPQ8oqmOdpEZ",
        "outputId": "c536c240-a483-414d-e505-53084762fb71"
      },
      "execution_count": 242,
      "outputs": [
        {
          "output_type": "execute_result",
          "data": {
            "text/html": [
              "\n",
              "  <div id=\"df-21143ae3-b62d-4955-ae2f-78679c98cb88\">\n",
              "    <div class=\"colab-df-container\">\n",
              "      <div>\n",
              "<style scoped>\n",
              "    .dataframe tbody tr th:only-of-type {\n",
              "        vertical-align: middle;\n",
              "    }\n",
              "\n",
              "    .dataframe tbody tr th {\n",
              "        vertical-align: top;\n",
              "    }\n",
              "\n",
              "    .dataframe thead th {\n",
              "        text-align: right;\n",
              "    }\n",
              "</style>\n",
              "<table border=\"1\" class=\"dataframe\">\n",
              "  <thead>\n",
              "    <tr style=\"text-align: right;\">\n",
              "      <th></th>\n",
              "      <th>TransactionID</th>\n",
              "      <th>isFraud</th>\n",
              "    </tr>\n",
              "  </thead>\n",
              "  <tbody>\n",
              "    <tr>\n",
              "      <th>0</th>\n",
              "      <td>3663549</td>\n",
              "      <td>0.018043</td>\n",
              "    </tr>\n",
              "    <tr>\n",
              "      <th>1</th>\n",
              "      <td>3663550</td>\n",
              "      <td>0.025888</td>\n",
              "    </tr>\n",
              "    <tr>\n",
              "      <th>2</th>\n",
              "      <td>3663551</td>\n",
              "      <td>0.013508</td>\n",
              "    </tr>\n",
              "    <tr>\n",
              "      <th>3</th>\n",
              "      <td>3663552</td>\n",
              "      <td>0.088501</td>\n",
              "    </tr>\n",
              "    <tr>\n",
              "      <th>4</th>\n",
              "      <td>3663553</td>\n",
              "      <td>0.003102</td>\n",
              "    </tr>\n",
              "    <tr>\n",
              "      <th>5</th>\n",
              "      <td>3663554</td>\n",
              "      <td>0.041617</td>\n",
              "    </tr>\n",
              "    <tr>\n",
              "      <th>6</th>\n",
              "      <td>3663555</td>\n",
              "      <td>0.025514</td>\n",
              "    </tr>\n",
              "    <tr>\n",
              "      <th>7</th>\n",
              "      <td>3663556</td>\n",
              "      <td>0.127346</td>\n",
              "    </tr>\n",
              "    <tr>\n",
              "      <th>8</th>\n",
              "      <td>3663557</td>\n",
              "      <td>0.000695</td>\n",
              "    </tr>\n",
              "    <tr>\n",
              "      <th>9</th>\n",
              "      <td>3663558</td>\n",
              "      <td>0.138352</td>\n",
              "    </tr>\n",
              "  </tbody>\n",
              "</table>\n",
              "</div>\n",
              "      <button class=\"colab-df-convert\" onclick=\"convertToInteractive('df-21143ae3-b62d-4955-ae2f-78679c98cb88')\"\n",
              "              title=\"Convert this dataframe to an interactive table.\"\n",
              "              style=\"display:none;\">\n",
              "        \n",
              "  <svg xmlns=\"http://www.w3.org/2000/svg\" height=\"24px\"viewBox=\"0 0 24 24\"\n",
              "       width=\"24px\">\n",
              "    <path d=\"M0 0h24v24H0V0z\" fill=\"none\"/>\n",
              "    <path d=\"M18.56 5.44l.94 2.06.94-2.06 2.06-.94-2.06-.94-.94-2.06-.94 2.06-2.06.94zm-11 1L8.5 8.5l.94-2.06 2.06-.94-2.06-.94L8.5 2.5l-.94 2.06-2.06.94zm10 10l.94 2.06.94-2.06 2.06-.94-2.06-.94-.94-2.06-.94 2.06-2.06.94z\"/><path d=\"M17.41 7.96l-1.37-1.37c-.4-.4-.92-.59-1.43-.59-.52 0-1.04.2-1.43.59L10.3 9.45l-7.72 7.72c-.78.78-.78 2.05 0 2.83L4 21.41c.39.39.9.59 1.41.59.51 0 1.02-.2 1.41-.59l7.78-7.78 2.81-2.81c.8-.78.8-2.07 0-2.86zM5.41 20L4 18.59l7.72-7.72 1.47 1.35L5.41 20z\"/>\n",
              "  </svg>\n",
              "      </button>\n",
              "      \n",
              "  <style>\n",
              "    .colab-df-container {\n",
              "      display:flex;\n",
              "      flex-wrap:wrap;\n",
              "      gap: 12px;\n",
              "    }\n",
              "\n",
              "    .colab-df-convert {\n",
              "      background-color: #E8F0FE;\n",
              "      border: none;\n",
              "      border-radius: 50%;\n",
              "      cursor: pointer;\n",
              "      display: none;\n",
              "      fill: #1967D2;\n",
              "      height: 32px;\n",
              "      padding: 0 0 0 0;\n",
              "      width: 32px;\n",
              "    }\n",
              "\n",
              "    .colab-df-convert:hover {\n",
              "      background-color: #E2EBFA;\n",
              "      box-shadow: 0px 1px 2px rgba(60, 64, 67, 0.3), 0px 1px 3px 1px rgba(60, 64, 67, 0.15);\n",
              "      fill: #174EA6;\n",
              "    }\n",
              "\n",
              "    [theme=dark] .colab-df-convert {\n",
              "      background-color: #3B4455;\n",
              "      fill: #D2E3FC;\n",
              "    }\n",
              "\n",
              "    [theme=dark] .colab-df-convert:hover {\n",
              "      background-color: #434B5C;\n",
              "      box-shadow: 0px 1px 3px 1px rgba(0, 0, 0, 0.15);\n",
              "      filter: drop-shadow(0px 1px 2px rgba(0, 0, 0, 0.3));\n",
              "      fill: #FFFFFF;\n",
              "    }\n",
              "  </style>\n",
              "\n",
              "      <script>\n",
              "        const buttonEl =\n",
              "          document.querySelector('#df-21143ae3-b62d-4955-ae2f-78679c98cb88 button.colab-df-convert');\n",
              "        buttonEl.style.display =\n",
              "          google.colab.kernel.accessAllowed ? 'block' : 'none';\n",
              "\n",
              "        async function convertToInteractive(key) {\n",
              "          const element = document.querySelector('#df-21143ae3-b62d-4955-ae2f-78679c98cb88');\n",
              "          const dataTable =\n",
              "            await google.colab.kernel.invokeFunction('convertToInteractive',\n",
              "                                                     [key], {});\n",
              "          if (!dataTable) return;\n",
              "\n",
              "          const docLinkHtml = 'Like what you see? Visit the ' +\n",
              "            '<a target=\"_blank\" href=https://colab.research.google.com/notebooks/data_table.ipynb>data table notebook</a>'\n",
              "            + ' to learn more about interactive tables.';\n",
              "          element.innerHTML = '';\n",
              "          dataTable['output_type'] = 'display_data';\n",
              "          await google.colab.output.renderOutput(dataTable, element);\n",
              "          const docLink = document.createElement('div');\n",
              "          docLink.innerHTML = docLinkHtml;\n",
              "          element.appendChild(docLink);\n",
              "        }\n",
              "      </script>\n",
              "    </div>\n",
              "  </div>\n",
              "  "
            ],
            "text/plain": [
              "   TransactionID   isFraud\n",
              "0        3663549  0.018043\n",
              "1        3663550  0.025888\n",
              "2        3663551  0.013508\n",
              "3        3663552  0.088501\n",
              "4        3663553  0.003102\n",
              "5        3663554  0.041617\n",
              "6        3663555  0.025514\n",
              "7        3663556  0.127346\n",
              "8        3663557  0.000695\n",
              "9        3663558  0.138352"
            ]
          },
          "metadata": {},
          "execution_count": 242
        }
      ]
    },
    {
      "cell_type": "code",
      "source": [
        "my_submission.tail(10)"
      ],
      "metadata": {
        "colab": {
          "base_uri": "https://localhost:8080/",
          "height": 363
        },
        "id": "5XvIzWMyiGco",
        "outputId": "ed2cf09c-6d9b-4544-aa27-bdb90a3926aa"
      },
      "execution_count": 243,
      "outputs": [
        {
          "output_type": "execute_result",
          "data": {
            "text/html": [
              "\n",
              "  <div id=\"df-b3b9044f-fe53-4022-9033-309a6e13b788\">\n",
              "    <div class=\"colab-df-container\">\n",
              "      <div>\n",
              "<style scoped>\n",
              "    .dataframe tbody tr th:only-of-type {\n",
              "        vertical-align: middle;\n",
              "    }\n",
              "\n",
              "    .dataframe tbody tr th {\n",
              "        vertical-align: top;\n",
              "    }\n",
              "\n",
              "    .dataframe thead th {\n",
              "        text-align: right;\n",
              "    }\n",
              "</style>\n",
              "<table border=\"1\" class=\"dataframe\">\n",
              "  <thead>\n",
              "    <tr style=\"text-align: right;\">\n",
              "      <th></th>\n",
              "      <th>TransactionID</th>\n",
              "      <th>isFraud</th>\n",
              "    </tr>\n",
              "  </thead>\n",
              "  <tbody>\n",
              "    <tr>\n",
              "      <th>506681</th>\n",
              "      <td>4170230</td>\n",
              "      <td>0.070244</td>\n",
              "    </tr>\n",
              "    <tr>\n",
              "      <th>506682</th>\n",
              "      <td>4170231</td>\n",
              "      <td>0.338514</td>\n",
              "    </tr>\n",
              "    <tr>\n",
              "      <th>506683</th>\n",
              "      <td>4170232</td>\n",
              "      <td>0.003323</td>\n",
              "    </tr>\n",
              "    <tr>\n",
              "      <th>506684</th>\n",
              "      <td>4170233</td>\n",
              "      <td>0.004723</td>\n",
              "    </tr>\n",
              "    <tr>\n",
              "      <th>506685</th>\n",
              "      <td>4170234</td>\n",
              "      <td>0.020583</td>\n",
              "    </tr>\n",
              "    <tr>\n",
              "      <th>506686</th>\n",
              "      <td>4170235</td>\n",
              "      <td>0.076631</td>\n",
              "    </tr>\n",
              "    <tr>\n",
              "      <th>506687</th>\n",
              "      <td>4170236</td>\n",
              "      <td>0.013525</td>\n",
              "    </tr>\n",
              "    <tr>\n",
              "      <th>506688</th>\n",
              "      <td>4170237</td>\n",
              "      <td>0.052313</td>\n",
              "    </tr>\n",
              "    <tr>\n",
              "      <th>506689</th>\n",
              "      <td>4170238</td>\n",
              "      <td>0.082660</td>\n",
              "    </tr>\n",
              "    <tr>\n",
              "      <th>506690</th>\n",
              "      <td>4170239</td>\n",
              "      <td>0.005981</td>\n",
              "    </tr>\n",
              "  </tbody>\n",
              "</table>\n",
              "</div>\n",
              "      <button class=\"colab-df-convert\" onclick=\"convertToInteractive('df-b3b9044f-fe53-4022-9033-309a6e13b788')\"\n",
              "              title=\"Convert this dataframe to an interactive table.\"\n",
              "              style=\"display:none;\">\n",
              "        \n",
              "  <svg xmlns=\"http://www.w3.org/2000/svg\" height=\"24px\"viewBox=\"0 0 24 24\"\n",
              "       width=\"24px\">\n",
              "    <path d=\"M0 0h24v24H0V0z\" fill=\"none\"/>\n",
              "    <path d=\"M18.56 5.44l.94 2.06.94-2.06 2.06-.94-2.06-.94-.94-2.06-.94 2.06-2.06.94zm-11 1L8.5 8.5l.94-2.06 2.06-.94-2.06-.94L8.5 2.5l-.94 2.06-2.06.94zm10 10l.94 2.06.94-2.06 2.06-.94-2.06-.94-.94-2.06-.94 2.06-2.06.94z\"/><path d=\"M17.41 7.96l-1.37-1.37c-.4-.4-.92-.59-1.43-.59-.52 0-1.04.2-1.43.59L10.3 9.45l-7.72 7.72c-.78.78-.78 2.05 0 2.83L4 21.41c.39.39.9.59 1.41.59.51 0 1.02-.2 1.41-.59l7.78-7.78 2.81-2.81c.8-.78.8-2.07 0-2.86zM5.41 20L4 18.59l7.72-7.72 1.47 1.35L5.41 20z\"/>\n",
              "  </svg>\n",
              "      </button>\n",
              "      \n",
              "  <style>\n",
              "    .colab-df-container {\n",
              "      display:flex;\n",
              "      flex-wrap:wrap;\n",
              "      gap: 12px;\n",
              "    }\n",
              "\n",
              "    .colab-df-convert {\n",
              "      background-color: #E8F0FE;\n",
              "      border: none;\n",
              "      border-radius: 50%;\n",
              "      cursor: pointer;\n",
              "      display: none;\n",
              "      fill: #1967D2;\n",
              "      height: 32px;\n",
              "      padding: 0 0 0 0;\n",
              "      width: 32px;\n",
              "    }\n",
              "\n",
              "    .colab-df-convert:hover {\n",
              "      background-color: #E2EBFA;\n",
              "      box-shadow: 0px 1px 2px rgba(60, 64, 67, 0.3), 0px 1px 3px 1px rgba(60, 64, 67, 0.15);\n",
              "      fill: #174EA6;\n",
              "    }\n",
              "\n",
              "    [theme=dark] .colab-df-convert {\n",
              "      background-color: #3B4455;\n",
              "      fill: #D2E3FC;\n",
              "    }\n",
              "\n",
              "    [theme=dark] .colab-df-convert:hover {\n",
              "      background-color: #434B5C;\n",
              "      box-shadow: 0px 1px 3px 1px rgba(0, 0, 0, 0.15);\n",
              "      filter: drop-shadow(0px 1px 2px rgba(0, 0, 0, 0.3));\n",
              "      fill: #FFFFFF;\n",
              "    }\n",
              "  </style>\n",
              "\n",
              "      <script>\n",
              "        const buttonEl =\n",
              "          document.querySelector('#df-b3b9044f-fe53-4022-9033-309a6e13b788 button.colab-df-convert');\n",
              "        buttonEl.style.display =\n",
              "          google.colab.kernel.accessAllowed ? 'block' : 'none';\n",
              "\n",
              "        async function convertToInteractive(key) {\n",
              "          const element = document.querySelector('#df-b3b9044f-fe53-4022-9033-309a6e13b788');\n",
              "          const dataTable =\n",
              "            await google.colab.kernel.invokeFunction('convertToInteractive',\n",
              "                                                     [key], {});\n",
              "          if (!dataTable) return;\n",
              "\n",
              "          const docLinkHtml = 'Like what you see? Visit the ' +\n",
              "            '<a target=\"_blank\" href=https://colab.research.google.com/notebooks/data_table.ipynb>data table notebook</a>'\n",
              "            + ' to learn more about interactive tables.';\n",
              "          element.innerHTML = '';\n",
              "          dataTable['output_type'] = 'display_data';\n",
              "          await google.colab.output.renderOutput(dataTable, element);\n",
              "          const docLink = document.createElement('div');\n",
              "          docLink.innerHTML = docLinkHtml;\n",
              "          element.appendChild(docLink);\n",
              "        }\n",
              "      </script>\n",
              "    </div>\n",
              "  </div>\n",
              "  "
            ],
            "text/plain": [
              "        TransactionID   isFraud\n",
              "506681        4170230  0.070244\n",
              "506682        4170231  0.338514\n",
              "506683        4170232  0.003323\n",
              "506684        4170233  0.004723\n",
              "506685        4170234  0.020583\n",
              "506686        4170235  0.076631\n",
              "506687        4170236  0.013525\n",
              "506688        4170237  0.052313\n",
              "506689        4170238  0.082660\n",
              "506690        4170239  0.005981"
            ]
          },
          "metadata": {},
          "execution_count": 243
        }
      ]
    },
    {
      "cell_type": "code",
      "source": [
        "testSet2 = pd.read_csv('/content/drive/MyDrive/Results/testSetLight.csv')"
      ],
      "metadata": {
        "id": "Q5MkcRx4m9Un"
      },
      "execution_count": 245,
      "outputs": []
    },
    {
      "cell_type": "code",
      "source": [
        "# After read the Dataset, Use form Submission to fill the Final results\n",
        "my_submission2= pd.read_csv('/content/drive/MyDrive/IFE/sample_submission.csv')\n",
        "my_submission2['isFraud'] = pd.DataFrame(LightLite.predict_proba(testSet2))[[1]]\n",
        "my_submission2.to_csv('/content/drive/MyDrive/Results/my_submission2.csv', index = False)"
      ],
      "metadata": {
        "id": "zui52cpGn-JQ"
      },
      "execution_count": 252,
      "outputs": []
    },
    {
      "cell_type": "code",
      "source": [
        "my_submission3= pd.read_csv('/content/drive/MyDrive/IFE/sample_submission.csv')\n",
        "my_submission3['isFraud'] = pd.DataFrame(randForest.predict_proba(testSet))[[1]]\n",
        "my_submission3.to_csv('/content/drive/MyDrive/Results/my_submission3.csv', index = False)"
      ],
      "metadata": {
        "id": "8n1T40I6qH0N"
      },
      "execution_count": 255,
      "outputs": []
    },
    {
      "cell_type": "code",
      "source": [
        "# Random Forest Fit the Lite Data\n",
        "randForest.fit(X_lite, y_lite)"
      ],
      "metadata": {
        "colab": {
          "base_uri": "https://localhost:8080/"
        },
        "id": "16Y55dT8qaG1",
        "outputId": "675e52e1-f61a-4014-aa8b-578bd5cc9359"
      },
      "execution_count": 256,
      "outputs": [
        {
          "output_type": "execute_result",
          "data": {
            "text/plain": [
              "RandomForestClassifier()"
            ]
          },
          "metadata": {},
          "execution_count": 256
        }
      ]
    },
    {
      "cell_type": "code",
      "source": [
        "my_submission4= pd.read_csv('/content/drive/MyDrive/IFE/sample_submission.csv')\n",
        "my_submission4['isFraud'] = pd.DataFrame(randForest.predict_proba(testSet2))[[1]]\n",
        "my_submission4.to_csv('/content/drive/MyDrive/Results/my_submission4.csv', index = False)"
      ],
      "metadata": {
        "id": "AQUsPF6QvzoM"
      },
      "execution_count": 257,
      "outputs": []
    }
  ]
}